{
 "cells": [
  {
   "cell_type": "markdown",
   "id": "d37de4ef-f5f0-46f3-9e37-fd01883e332b",
   "metadata": {},
   "source": [
    "## HTML Webscrappping and inspect\n",
    "## https://www.scrapethissite.com/pages/forms/  -- using this website"
   ]
  },
  {
   "cell_type": "code",
   "execution_count": 6,
   "id": "1b87ce6e-d658-45e3-a2b6-1417fe7fddb4",
   "metadata": {},
   "outputs": [],
   "source": [
    "from bs4 import BeautifulSoup\n",
    "import requests\n",
    "\n"
   ]
  },
  {
   "cell_type": "code",
   "execution_count": 7,
   "id": "e71b5f78-f08e-47b3-9813-17207e485b44",
   "metadata": {},
   "outputs": [],
   "source": [
    "url = 'https://www.scrapethissite.com/pages/forms/'"
   ]
  },
  {
   "cell_type": "code",
   "execution_count": 9,
   "id": "e4a5b074-42d0-4edf-b122-eb046afb03fd",
   "metadata": {},
   "outputs": [],
   "source": [
    "pages = requests.get(url)"
   ]
  },
  {
   "cell_type": "code",
   "execution_count": 11,
   "id": "3941d1cd-0fbf-4656-8f74-eafa6c78359d",
   "metadata": {},
   "outputs": [],
   "source": [
    "soup = BeautifulSoup(pages.text, 'html')"
   ]
  },
  {
   "cell_type": "code",
   "execution_count": 13,
   "id": "3b9fdafb-706c-4332-833a-6c71ad7bc5be",
   "metadata": {},
   "outputs": [],
   "source": [
    "## if we do print soup . it will print the html page of the above website which we mentioned"
   ]
  },
  {
   "cell_type": "markdown",
   "id": "a3c70737-2415-431c-9cea-00b298e57d8a",
   "metadata": {},
   "source": [
    "##  if we want to find any particular name from that website , we can use find anf find_all function \n",
    "## as eg in the website we have table , we have to find Team Name "
   ]
  },
  {
   "cell_type": "code",
   "execution_count": 15,
   "id": "d201d461-b6b6-439b-90da-561240c0b4c5",
   "metadata": {},
   "outputs": [
    {
     "data": {
      "text/plain": [
       "<th>\n",
       "                            Team Name\n",
       "                        </th>"
      ]
     },
     "execution_count": 15,
     "metadata": {},
     "output_type": "execute_result"
    }
   ],
   "source": [
    "soup.find('th')          # here if you check Team name in website you will see in th tag\n"
   ]
  },
  {
   "cell_type": "markdown",
   "id": "f4f5f166-1c66-4615-937b-0a7e74b08948",
   "metadata": {},
   "source": [
    "##  to remove those spaces   and remove those <th> also , we use .text to remove <th>  , to reomve spaces we use -- <strip()"
   ]
  },
  {
   "cell_type": "code",
   "execution_count": 16,
   "id": "955cb720-5745-45c2-b51c-ed99a2765ed1",
   "metadata": {},
   "outputs": [
    {
     "data": {
      "text/plain": [
       "'Team Name'"
      ]
     },
     "execution_count": 16,
     "metadata": {},
     "output_type": "execute_result"
    }
   ],
   "source": [
    "soup.find('th').text.strip()"
   ]
  },
  {
   "cell_type": "code",
   "execution_count": null,
   "id": "da1234a1-fdd7-450a-a873-b362b438d685",
   "metadata": {},
   "outputs": [],
   "source": []
  }
 ],
 "metadata": {
  "kernelspec": {
   "display_name": "Python 3 (ipykernel)",
   "language": "python",
   "name": "python3"
  },
  "language_info": {
   "codemirror_mode": {
    "name": "ipython",
    "version": 3
   },
   "file_extension": ".py",
   "mimetype": "text/x-python",
   "name": "python",
   "nbconvert_exporter": "python",
   "pygments_lexer": "ipython3",
   "version": "3.12.1"
  }
 },
 "nbformat": 4,
 "nbformat_minor": 5
}
